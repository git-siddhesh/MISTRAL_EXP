{
 "cells": [
  {
   "cell_type": "code",
   "execution_count": 8,
   "metadata": {},
   "outputs": [
    {
     "data": {
      "text/html": [
       "<div>\n",
       "<style scoped>\n",
       "    .dataframe tbody tr th:only-of-type {\n",
       "        vertical-align: middle;\n",
       "    }\n",
       "\n",
       "    .dataframe tbody tr th {\n",
       "        vertical-align: top;\n",
       "    }\n",
       "\n",
       "    .dataframe thead th {\n",
       "        text-align: right;\n",
       "    }\n",
       "</style>\n",
       "<table border=\"1\" class=\"dataframe\">\n",
       "  <thead>\n",
       "    <tr style=\"text-align: right;\">\n",
       "      <th></th>\n",
       "      <th>title</th>\n",
       "      <th>abstract</th>\n",
       "    </tr>\n",
       "  </thead>\n",
       "  <tbody>\n",
       "    <tr>\n",
       "      <th>0</th>\n",
       "      <td>Calculation of prompt diphoton production cros...</td>\n",
       "      <td>A fully differential calculation in perturba...</td>\n",
       "    </tr>\n",
       "    <tr>\n",
       "      <th>1</th>\n",
       "      <td>Sparsity-certifying Graph Decompositions</td>\n",
       "      <td>We describe a new algorithm, the $(k,\\ell)$-...</td>\n",
       "    </tr>\n",
       "    <tr>\n",
       "      <th>2</th>\n",
       "      <td>The evolution of the Earth-Moon system based o...</td>\n",
       "      <td>The evolution of Earth-Moon system is descri...</td>\n",
       "    </tr>\n",
       "    <tr>\n",
       "      <th>3</th>\n",
       "      <td>A determinant of Stirling cycle numbers counts...</td>\n",
       "      <td>We show that a determinant of Stirling cycle...</td>\n",
       "    </tr>\n",
       "    <tr>\n",
       "      <th>4</th>\n",
       "      <td>From dyadic $\\Lambda_{\\alpha}$ to $\\Lambda_{\\a...</td>\n",
       "      <td>In this paper we show how to compute the $\\L...</td>\n",
       "    </tr>\n",
       "    <tr>\n",
       "      <th>...</th>\n",
       "      <td>...</td>\n",
       "      <td>...</td>\n",
       "    </tr>\n",
       "    <tr>\n",
       "      <th>2254193</th>\n",
       "      <td>On the origin of the irreversibility line in t...</td>\n",
       "      <td>We report on measurements of the angular dep...</td>\n",
       "    </tr>\n",
       "    <tr>\n",
       "      <th>2254194</th>\n",
       "      <td>Nonlinear Response of HTSC Thin Film Microwave...</td>\n",
       "      <td>The non-linear microwave surface impedance o...</td>\n",
       "    </tr>\n",
       "    <tr>\n",
       "      <th>2254195</th>\n",
       "      <td>Critical State Flux Penetration and Linear Mic...</td>\n",
       "      <td>The vortex contribution to the dc field (H) ...</td>\n",
       "    </tr>\n",
       "    <tr>\n",
       "      <th>2254196</th>\n",
       "      <td>Density of States and NMR Relaxation Rate in A...</td>\n",
       "      <td>We show that the density of states in an ani...</td>\n",
       "    </tr>\n",
       "    <tr>\n",
       "      <th>2254197</th>\n",
       "      <td>Ginzburg Landau theory for d-wave pairing and ...</td>\n",
       "      <td>The Ginzburg Landau theory for d_{x^2-y^2}-w...</td>\n",
       "    </tr>\n",
       "  </tbody>\n",
       "</table>\n",
       "<p>2254198 rows × 2 columns</p>\n",
       "</div>"
      ],
      "text/plain": [
       "                                                     title  \\\n",
       "0        Calculation of prompt diphoton production cros...   \n",
       "1                 Sparsity-certifying Graph Decompositions   \n",
       "2        The evolution of the Earth-Moon system based o...   \n",
       "3        A determinant of Stirling cycle numbers counts...   \n",
       "4        From dyadic $\\Lambda_{\\alpha}$ to $\\Lambda_{\\a...   \n",
       "...                                                    ...   \n",
       "2254193  On the origin of the irreversibility line in t...   \n",
       "2254194  Nonlinear Response of HTSC Thin Film Microwave...   \n",
       "2254195  Critical State Flux Penetration and Linear Mic...   \n",
       "2254196  Density of States and NMR Relaxation Rate in A...   \n",
       "2254197  Ginzburg Landau theory for d-wave pairing and ...   \n",
       "\n",
       "                                                  abstract  \n",
       "0          A fully differential calculation in perturba...  \n",
       "1          We describe a new algorithm, the $(k,\\ell)$-...  \n",
       "2          The evolution of Earth-Moon system is descri...  \n",
       "3          We show that a determinant of Stirling cycle...  \n",
       "4          In this paper we show how to compute the $\\L...  \n",
       "...                                                    ...  \n",
       "2254193    We report on measurements of the angular dep...  \n",
       "2254194    The non-linear microwave surface impedance o...  \n",
       "2254195    The vortex contribution to the dc field (H) ...  \n",
       "2254196    We show that the density of states in an ani...  \n",
       "2254197    The Ginzburg Landau theory for d_{x^2-y^2}-w...  \n",
       "\n",
       "[2254198 rows x 2 columns]"
      ]
     },
     "execution_count": 8,
     "metadata": {},
     "output_type": "execute_result"
    }
   ],
   "source": [
    "import pandas as pd\n",
    "\n",
    "df = pd.read_csv(\"/home/dosisiddhesh/MISTRAL_EXP/data/output.csv\", usecols=['title','abstract'] )\n",
    "df"
   ]
  },
  {
   "cell_type": "code",
   "execution_count": 9,
   "metadata": {},
   "outputs": [],
   "source": [
    "df['text'] = df['title'].str.cat(df['abstract'], sep =\" \")\n",
    "\n"
   ]
  },
  {
   "cell_type": "code",
   "execution_count": 10,
   "metadata": {},
   "outputs": [],
   "source": [
    "df['text'] = df['text'].str.replace(r'\\d+','')"
   ]
  },
  {
   "cell_type": "code",
   "execution_count": 11,
   "metadata": {},
   "outputs": [
    {
     "data": {
      "text/plain": [
       "0          Calculation of prompt diphoton production cros...\n",
       "1          Sparsity-certifying Graph Decompositions   We ...\n",
       "2          The evolution of the Earth-Moon system based o...\n",
       "3          A determinant of Stirling cycle numbers counts...\n",
       "4          From dyadic $\\Lambda_{\\alpha}$ to $\\Lambda_{\\a...\n",
       "                                 ...                        \n",
       "2254193    On the origin of the irreversibility line in t...\n",
       "2254194    Nonlinear Response of HTSC Thin Film Microwave...\n",
       "2254195    Critical State Flux Penetration and Linear Mic...\n",
       "2254196    Density of States and NMR Relaxation Rate in A...\n",
       "2254197    Ginzburg Landau theory for d-wave pairing and ...\n",
       "Name: text, Length: 2254198, dtype: object"
      ]
     },
     "execution_count": 11,
     "metadata": {},
     "output_type": "execute_result"
    }
   ],
   "source": [
    "df['text']"
   ]
  },
  {
   "cell_type": "code",
   "execution_count": 12,
   "metadata": {},
   "outputs": [],
   "source": [
    "#save the dataframe as csv only with text column\n",
    "df.to_csv(\"/home/dosisiddhesh/MISTRAL_EXP/data/abstract.csv\", columns=['text'], index=False)"
   ]
  },
  {
   "cell_type": "code",
   "execution_count": null,
   "metadata": {},
   "outputs": [],
   "source": []
  }
 ],
 "metadata": {
  "kernelspec": {
   "display_name": "base",
   "language": "python",
   "name": "python3"
  },
  "language_info": {
   "codemirror_mode": {
    "name": "ipython",
    "version": 3
   },
   "file_extension": ".py",
   "mimetype": "text/x-python",
   "name": "python",
   "nbconvert_exporter": "python",
   "pygments_lexer": "ipython3",
   "version": "3.11.5"
  }
 },
 "nbformat": 4,
 "nbformat_minor": 2
}
