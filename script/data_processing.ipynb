{
 "cells": [
  {
   "cell_type": "code",
   "execution_count": 8,
   "metadata": {},
   "outputs": [
    {
     "data": {
      "text/html": [
       "<div>\n",
       "<style scoped>\n",
       "    .dataframe tbody tr th:only-of-type {\n",
       "        vertical-align: middle;\n",
       "    }\n",
       "\n",
       "    .dataframe tbody tr th {\n",
       "        vertical-align: top;\n",
       "    }\n",
       "\n",
       "    .dataframe thead th {\n",
       "        text-align: right;\n",
       "    }\n",
       "</style>\n",
       "<table border=\"1\" class=\"dataframe\">\n",
       "  <thead>\n",
       "    <tr style=\"text-align: right;\">\n",
       "      <th></th>\n",
       "      <th>title</th>\n",
       "      <th>abstract</th>\n",
       "    </tr>\n",
       "  </thead>\n",
       "  <tbody>\n",
       "    <tr>\n",
       "      <th>0</th>\n",
       "      <td>Calculation of prompt diphoton production cros...</td>\n",
       "      <td>A fully differential calculation in perturba...</td>\n",
       "    </tr>\n",
       "    <tr>\n",
       "      <th>1</th>\n",
       "      <td>Sparsity-certifying Graph Decompositions</td>\n",
       "      <td>We describe a new algorithm, the $(k,\\ell)$-...</td>\n",
       "    </tr>\n",
       "    <tr>\n",
       "      <th>2</th>\n",
       "      <td>The evolution of the Earth-Moon system based o...</td>\n",
       "      <td>The evolution of Earth-Moon system is descri...</td>\n",
       "    </tr>\n",
       "    <tr>\n",
       "      <th>3</th>\n",
       "      <td>A determinant of Stirling cycle numbers counts...</td>\n",
       "      <td>We show that a determinant of Stirling cycle...</td>\n",
       "    </tr>\n",
       "    <tr>\n",
       "      <th>4</th>\n",
       "      <td>From dyadic $\\Lambda_{\\alpha}$ to $\\Lambda_{\\a...</td>\n",
       "      <td>In this paper we show how to compute the $\\L...</td>\n",
       "    </tr>\n",
       "    <tr>\n",
       "      <th>...</th>\n",
       "      <td>...</td>\n",
       "      <td>...</td>\n",
       "    </tr>\n",
       "    <tr>\n",
       "      <th>2254193</th>\n",
       "      <td>On the origin of the irreversibility line in t...</td>\n",
       "      <td>We report on measurements of the angular dep...</td>\n",
       "    </tr>\n",
       "    <tr>\n",
       "      <th>2254194</th>\n",
       "      <td>Nonlinear Response of HTSC Thin Film Microwave...</td>\n",
       "      <td>The non-linear microwave surface impedance o...</td>\n",
       "    </tr>\n",
       "    <tr>\n",
       "      <th>2254195</th>\n",
       "      <td>Critical State Flux Penetration and Linear Mic...</td>\n",
       "      <td>The vortex contribution to the dc field (H) ...</td>\n",
       "    </tr>\n",
       "    <tr>\n",
       "      <th>2254196</th>\n",
       "      <td>Density of States and NMR Relaxation Rate in A...</td>\n",
       "      <td>We show that the density of states in an ani...</td>\n",
       "    </tr>\n",
       "    <tr>\n",
       "      <th>2254197</th>\n",
       "      <td>Ginzburg Landau theory for d-wave pairing and ...</td>\n",
       "      <td>The Ginzburg Landau theory for d_{x^2-y^2}-w...</td>\n",
       "    </tr>\n",
       "  </tbody>\n",
       "</table>\n",
       "<p>2254198 rows × 2 columns</p>\n",
       "</div>"
      ],
      "text/plain": [
       "                                                     title  \\\n",
       "0        Calculation of prompt diphoton production cros...   \n",
       "1                 Sparsity-certifying Graph Decompositions   \n",
       "2        The evolution of the Earth-Moon system based o...   \n",
       "3        A determinant of Stirling cycle numbers counts...   \n",
       "4        From dyadic $\\Lambda_{\\alpha}$ to $\\Lambda_{\\a...   \n",
       "...                                                    ...   \n",
       "2254193  On the origin of the irreversibility line in t...   \n",
       "2254194  Nonlinear Response of HTSC Thin Film Microwave...   \n",
       "2254195  Critical State Flux Penetration and Linear Mic...   \n",
       "2254196  Density of States and NMR Relaxation Rate in A...   \n",
       "2254197  Ginzburg Landau theory for d-wave pairing and ...   \n",
       "\n",
       "                                                  abstract  \n",
       "0          A fully differential calculation in perturba...  \n",
       "1          We describe a new algorithm, the $(k,\\ell)$-...  \n",
       "2          The evolution of Earth-Moon system is descri...  \n",
       "3          We show that a determinant of Stirling cycle...  \n",
       "4          In this paper we show how to compute the $\\L...  \n",
       "...                                                    ...  \n",
       "2254193    We report on measurements of the angular dep...  \n",
       "2254194    The non-linear microwave surface impedance o...  \n",
       "2254195    The vortex contribution to the dc field (H) ...  \n",
       "2254196    We show that the density of states in an ani...  \n",
       "2254197    The Ginzburg Landau theory for d_{x^2-y^2}-w...  \n",
       "\n",
       "[2254198 rows x 2 columns]"
      ]
     },
     "execution_count": 8,
     "metadata": {},
     "output_type": "execute_result"
    }
   ],
   "source": [
    "import pandas as pd\n",
    "\n",
    "df = pd.read_csv(\"/home/dosisiddhesh/MISTRAL_EXP/data/output.csv\", usecols=['title','abstract'] )\n",
    "df"
   ]
  },
  {
   "cell_type": "code",
   "execution_count": 9,
   "metadata": {},
   "outputs": [],
   "source": [
    "df['text'] = df['title'].str.cat(df['abstract'], sep =\" \")\n",
    "\n"
   ]
  },
  {
   "cell_type": "code",
   "execution_count": 10,
   "metadata": {},
   "outputs": [],
   "source": [
    "df['text'] = df['text'].str.replace(r'\\d+','')"
   ]
  },
  {
   "cell_type": "code",
   "execution_count": 11,
   "metadata": {},
   "outputs": [
    {
     "data": {
      "text/plain": [
       "0          Calculation of prompt diphoton production cros...\n",
       "1          Sparsity-certifying Graph Decompositions   We ...\n",
       "2          The evolution of the Earth-Moon system based o...\n",
       "3          A determinant of Stirling cycle numbers counts...\n",
       "4          From dyadic $\\Lambda_{\\alpha}$ to $\\Lambda_{\\a...\n",
       "                                 ...                        \n",
       "2254193    On the origin of the irreversibility line in t...\n",
       "2254194    Nonlinear Response of HTSC Thin Film Microwave...\n",
       "2254195    Critical State Flux Penetration and Linear Mic...\n",
       "2254196    Density of States and NMR Relaxation Rate in A...\n",
       "2254197    Ginzburg Landau theory for d-wave pairing and ...\n",
       "Name: text, Length: 2254198, dtype: object"
      ]
     },
     "execution_count": 11,
     "metadata": {},
     "output_type": "execute_result"
    }
   ],
   "source": [
    "df['text']"
   ]
  },
  {
   "cell_type": "code",
   "execution_count": 12,
   "metadata": {},
   "outputs": [],
   "source": [
    "#save the dataframe as csv only with text column\n",
    "df.to_csv(\"/home/dosisiddhesh/MISTRAL_EXP/data/abstract.csv\", columns=['text'], index=False)"
   ]
  },
  {
   "cell_type": "code",
   "execution_count": null,
   "metadata": {},
   "outputs": [],
   "source": []
  },
  {
   "cell_type": "markdown",
   "metadata": {},
   "source": [
    "# load data "
   ]
  },
  {
   "cell_type": "code",
   "execution_count": 4,
   "metadata": {},
   "outputs": [],
   "source": [
    "path = '/home/dosisiddhesh/MISTRAL_EXP/data/23_/2302/'\n",
    "import os\n",
    "files = os.listdir(path)"
   ]
  },
  {
   "cell_type": "code",
   "execution_count": 6,
   "metadata": {},
   "outputs": [
    {
     "data": {
      "text/plain": [
       "9722"
      ]
     },
     "execution_count": 6,
     "metadata": {},
     "output_type": "execute_result"
    }
   ],
   "source": [
    "len(files)"
   ]
  },
  {
   "cell_type": "code",
   "execution_count": 7,
   "metadata": {},
   "outputs": [],
   "source": [
    "latex_corpus = []\n",
    "for file in files:\n",
    "    file_path = path + file\n",
    "    # with open(path+file, 'r') as f:\n",
    "    #     data.append(f.read())\n",
    "\n",
    "    try:\n",
    "        with open(file_path, 'r', encoding='utf-8') as latex_file:\n",
    "            latex_text = latex_file.read()\n",
    "            latex_corpus.append(latex_text)\n",
    "    except UnicodeDecodeError:\n",
    "        # Fallback to 'latin-1' encoding if UTF-8 is not supported\n",
    "        with open(file_path, 'r', encoding='latin-1') as latex_file:\n",
    "            latex_text = latex_file.read()\n",
    "            latex_corpus.append(latex_text)\n",
    "\n"
   ]
  },
  {
   "cell_type": "code",
   "execution_count": 8,
   "metadata": {},
   "outputs": [
    {
     "data": {
      "text/plain": [
       "\"\\\\begin{thebibliography}{10}\\n\\\\providecommand{\\\\url}[1]{#1}\\n\\\\csname url@samestyle\\\\endcsname\\n\\\\providecommand{\\\\newblock}{\\\\relax}\\n\\\\providecommand{\\\\bibinfo}[2]{#2}\\n\\\\providecommand{\\\\BIBentrySTDinterwordspacing}{\\\\spaceskip=0pt\\\\relax}\\n\\\\providecommand{\\\\BIBentryALTinterwordstretchfactor}{4}\\n\\\\providecommand{\\\\BIBentryALTinterwordspacing}{\\\\spaceskip=\\\\fontdimen2\\\\font plus\\n\\\\BIBentryALTinterwordstretchfactor\\\\fontdimen3\\\\font minus\\n  \\\\fontdimen4\\\\font\\\\relax}\\n\\\\providecommand{\\\\BIBforeignlanguage}[2]{{\\n\\\\expandafter\\\\ifx\\\\csname l@#1\\\\endcsname\\\\relax\\n\\\\typeout{** WARNING: IEEEtran.bst: No hyphenation pattern has been}\\n\\\\typeout{** loaded for the language `#1'. Using the pattern for}\\n\\\\typeout{** the default language instead.}\\n\\\\else\\n\\\\language=\\\\csname l@#1\\\\endcsname\\n\\\\fi\\n#2}}\\n\\\\providecommand{\\\\BIBdecl}{\\\\relax}\\n\\\\BIBdecl\\n\\n\\\\bibitem{resilience}\\nK.~J. McIntyre, C.~A. LaFleur, N.~Chatterjee, R.~F. Powelson, and R.~Glick,\\n  ``Grid resilience in regional transmission organizations and independent\\n  system operators,'' \\\\emph{United Stated of America Federal Energy Regulatory\\n  Commission}, 2018.\\n\\n\\\\bibitem{1995AFF}\\nJ.~Ancona, ``A framework for power system restoration following a major power\\n  failure,'' \\\\emph{IEEE Transactions on Power Systems}, vol.~10, pp.\\n  1480--1485, 1995.\\n\\n\\\\bibitem{ElectricGB}\\nJ.~O'Brien, M.~Cassiadoro, T.~Becejac, G.~B. Shebl{\\\\'e}, J.~Follum, U.~Agrawal,\\n  E.~Andersen, M.~Touhiduzzaman, and J.~E. Dagle, ``Electric grid blackstart:\\n  Trends, challenges, and opportunities,'' 2021.\\n\\n\\\\bibitem{Ding2022ASB}\\nT.~Ding, Z.~Wang, M.~Qu, Z.~Wang, and M.~Shahidehpour, ``A sequential\\n  black-start restoration model for resilient active distribution networks,''\\n  \\\\emph{IEEE Transactions on Power Systems}, vol.~37, pp. 3133--3136, 2022.\\n\\n\\\\bibitem{Shi2022ATS}\\nS.~Shi, J.~Zhou, Y.~Su, X.~Wei, S.~Zhou, and H.~Liu, ``A two-stage stochastic\\n  distribution network restoration model with waste incineration power plants\\n  as black-start power resources,'' \\\\emph{2022 7th Asia Conference on Power and\\n  Electrical Engineering (ACPEE)}, pp. 1689--1693, 2022.\\n\\n\\\\bibitem{Zhu2021ATD}\\nY.~Zhu, Y.~Zhou, Z.~Wang, C.~Zhou, and B.~Gao, ``A terminal distribution\\n  network black-start optimization method based on pruning algorithm\\n  considering distributed generators,'' \\\\emph{Energy Reports}, 2021.\\n\\n\\\\bibitem{2016OptimalBS}\\nF.~Qiu, J.~Wang, C.~Chen, and J.~Tong, ``Optimal black start resource\\n  allocation,'' \\\\emph{IEEE Transactions on Power Systems}, vol.~31, pp.\\n  2493--2494, 2016.\\n\\n\\\\bibitem{2018OptimalBS}\\nG.~Patsakis, D.~Rajan, I.~Aravena, J.~Rios, and S.~S. Oren, ``Optimal black\\n  start allocation for power system restoration,'' \\\\emph{IEEE Transactions on\\n  Power Systems}, vol.~33, pp. 6766--6776, 2018.\\n\\n\\\\bibitem{cranking}\\nD.~Wang, X.~Gu, G.~Zhou, S.~Li, and H.~Liang, ``Decision‐making optimization\\n  of power system extended black‐start coordinating unit restoration with\\n  load restoration,'' \\\\emph{International Transactions on Electrical Energy\\n  Systems}, vol.~27, 2017.\\n\\n\\\\bibitem{2018WindCG}\\nP.~Maloney, Q.~Xu, J.~D. McCalley, B.~F. Hobbs, Sara, Daubenberger, and\\n  A.~Johnson, ``Wind capacity growth in the northwest us : co-optimized vs\\n  sequential generation and transmission planning,'' vol. 43(6), 2019, pp.\\n  573--595.\\n\\n\\\\bibitem{3568461}\\n\\\\BIBentryALTinterwordspacing\\nP.~(https://math.stackexchange.com/users/756404/pablo), ``linear programming\\n  set a variable the max between two another variables,'' Mathematics Stack\\n  Exchange, uRL:https://math.stackexchange.com/q/3568461 (version: 2021-11-23).\\n  [Online]. Available: \\\\url{https://math.stackexchange.com/q/3568461}\\n\\\\BIBentrySTDinterwordspacing\\n\\n\\\\bibitem{2013LocalSO}\\nW.~A. Bukhsh, A.~Grothey, K.~I.~M. McKinnon, and P.~A. Trodden, ``Local\\n  solutions of the optimal power flow problem,'' \\\\emph{IEEE Transactions on\\n  Power Systems}, vol.~28, pp. 4780--4788, 2013.\\n\\n\\\\end{thebibliography}\\n\\\\begin{thebibliography}{10}\\n\\\\providecommand{\\\\url}[1]{#1}\\n\\\\csname url@samestyle\\\\endcsname\\n\\\\providecommand{\\\\newblock}{\\\\relax}\\n\\\\providecommand{\\\\bibinfo}[2]{#2}\\n\\\\providecommand{\\\\BIBentrySTDinterwordspacing}{\\\\spaceskip=0pt\\\\relax}\\n\\\\providecommand{\\\\BIBentryALTinterwordstretchfactor}{4}\\n\\\\providecommand{\\\\BIBentryALTinterwordspacing}{\\\\spaceskip=\\\\fontdimen2\\\\font plus\\n\\\\BIBentryALTinterwordstretchfactor\\\\fontdimen3\\\\font minus\\n  \\\\fontdimen4\\\\font\\\\relax}\\n\\\\providecommand{\\\\BIBforeignlanguage}[2]{{\\n\\\\expandafter\\\\ifx\\\\csname l@#1\\\\endcsname\\\\relax\\n\\\\typeout{** WARNING: IEEEtran.bst: No hyphenation pattern has been}\\n\\\\typeout{** loaded for the language `#1'. Using the pattern for}\\n\\\\typeout{** the default language instead.}\\n\\\\else\\n\\\\language=\\\\csname l@#1\\\\endcsname\\n\\\\fi\\n#2}}\\n\\\\providecommand{\\\\BIBdecl}{\\\\relax}\\n\\\\BIBdecl\\n\\n\\\\bibitem{resilience}\\nK.~J. McIntyre, C.~A. LaFleur, N.~Chatterjee, R.~F. Powelson, and R.~Glick,\\n  ``Grid resilience in regional transmission organizations and independent\\n  system operators,'' \\\\emph{United Stated of America Federal Energy Regulatory\\n  Commission}, 2018.\\n\\n\\\\bibitem{1995AFF}\\nJ.~Ancona, ``A framework for power system restoration following a major power\\n  failure,'' \\\\emph{IEEE Transactions on Power Systems}, vol.~10, pp.\\n  1480--1485, 1995.\\n\\n\\\\bibitem{ElectricGB}\\nJ.~O'Brien, M.~Cassiadoro, T.~Becejac, G.~B. Shebl{\\\\'e}, J.~Follum, U.~Agrawal,\\n  E.~Andersen, M.~Touhiduzzaman, and J.~E. Dagle, ``Electric grid blackstart:\\n  Trends, challenges, and opportunities,'' 2021.\\n\\n\\\\bibitem{Ding2022ASB}\\nT.~Ding, Z.~Wang, M.~Qu, Z.~Wang, and M.~Shahidehpour, ``A sequential\\n  black-start restoration model for resilient active distribution networks,''\\n  \\\\emph{IEEE Transactions on Power Systems}, vol.~37, pp. 3133--3136, 2022.\\n\\n\\\\bibitem{Shi2022ATS}\\nS.~Shi, J.~Zhou, Y.~Su, X.~Wei, S.~Zhou, and H.~Liu, ``A two-stage stochastic\\n  distribution network restoration model with waste incineration power plants\\n  as black-start power resources,'' \\\\emph{2022 7th Asia Conference on Power and\\n  Electrical Engineering (ACPEE)}, pp. 1689--1693, 2022.\\n\\n\\\\bibitem{Zhu2021ATD}\\nY.~Zhu, Y.~Zhou, Z.~Wang, C.~Zhou, and B.~Gao, ``A terminal distribution\\n  network black-start optimization method based on pruning algorithm\\n  considering distributed generators,'' \\\\emph{Energy Reports}, 2021.\\n\\n\\\\bibitem{2016OptimalBS}\\nF.~Qiu, J.~Wang, C.~Chen, and J.~Tong, ``Optimal black start resource\\n  allocation,'' \\\\emph{IEEE Transactions on Power Systems}, vol.~31, pp.\\n  2493--2494, 2016.\\n\\n\\\\bibitem{2018OptimalBS}\\nG.~Patsakis, D.~Rajan, I.~Aravena, J.~Rios, and S.~S. Oren, ``Optimal black\\n  start allocation for power system restoration,'' \\\\emph{IEEE Transactions on\\n  Power Systems}, vol.~33, pp. 6766--6776, 2018.\\n\\n\\\\bibitem{cranking}\\nD.~Wang, X.~Gu, G.~Zhou, S.~Li, and H.~Liang, ``Decision‐making optimization\\n  of power system extended black‐start coordinating unit restoration with\\n  load restoration,'' \\\\emph{International Transactions on Electrical Energy\\n  Systems}, vol.~27, 2017.\\n\\n\\\\bibitem{2018WindCG}\\nP.~Maloney, Q.~Xu, J.~D. McCalley, B.~F. Hobbs, Sara, Daubenberger, and\\n  A.~Johnson, ``Wind capacity growth in the northwest us : co-optimized vs\\n  sequential generation and transmission planning,'' vol. 43(6), 2019, pp.\\n  573--595.\\n\\n\\\\bibitem{3568461}\\n\\\\BIBentryALTinterwordspacing\\nP.~(https://math.stackexchange.com/users/756404/pablo), ``linear programming\\n  set a variable the max between two another variables,'' Mathematics Stack\\n  Exchange, uRL:https://math.stackexchange.com/q/3568461 (version: 2021-11-23).\\n  [Online]. Available: \\\\url{https://math.stackexchange.com/q/3568461}\\n\\\\BIBentrySTDinterwordspacing\\n\\n\\\\bibitem{2013LocalSO}\\nW.~A. Bukhsh, A.~Grothey, K.~I.~M. McKinnon, and P.~A. Trodden, ``Local\\n  solutions of the optimal power flow problem,'' \\\\emph{IEEE Transactions on\\n  Power Systems}, vol.~28, pp. 4780--4788, 2013.\\n\\n\\\\end{thebibliography}\\n\""
      ]
     },
     "execution_count": 8,
     "metadata": {},
     "output_type": "execute_result"
    }
   ],
   "source": [
    "latex_corpus[0]"
   ]
  },
  {
   "cell_type": "code",
   "execution_count": 9,
   "metadata": {},
   "outputs": [],
   "source": [
    "import pandas as pd\n",
    "df = pd.DataFrame(latex_corpus, columns=['text'])"
   ]
  },
  {
   "cell_type": "code",
   "execution_count": 10,
   "metadata": {},
   "outputs": [],
   "source": [
    "df.to_csv(\"/home/dosisiddhesh/MISTRAL_EXP/data/latex.csv\", columns=['text'], index=False)"
   ]
  },
  {
   "cell_type": "code",
   "execution_count": 2,
   "metadata": {},
   "outputs": [
    {
     "data": {
      "text/plain": [
       "('/home/dosisiddhesh/MISTRAL_EXP/tokenizer_llama/tokenizer_config.json',\n",
       " '/home/dosisiddhesh/MISTRAL_EXP/tokenizer_llama/special_tokens_map.json',\n",
       " '/home/dosisiddhesh/MISTRAL_EXP/tokenizer_llama/tokenizer.model',\n",
       " '/home/dosisiddhesh/MISTRAL_EXP/tokenizer_llama/added_tokens.json',\n",
       " '/home/dosisiddhesh/MISTRAL_EXP/tokenizer_llama/tokenizer.json')"
      ]
     },
     "execution_count": 2,
     "metadata": {},
     "output_type": "execute_result"
    }
   ],
   "source": [
    "from transformers import LlamaTokenizerFast\n",
    "tokenizer = LlamaTokenizerFast.from_pretrained(\"hf-internal-testing/llama-tokenizer\")\n",
    "# save the tokenizer\n",
    "tokenizer.save_pretrained(\"/home/dosisiddhesh/MISTRAL_EXP/tokenizer_llama\")"
   ]
  },
  {
   "cell_type": "code",
   "execution_count": null,
   "metadata": {},
   "outputs": [],
   "source": []
  }
 ],
 "metadata": {
  "kernelspec": {
   "display_name": "base",
   "language": "python",
   "name": "python3"
  },
  "language_info": {
   "codemirror_mode": {
    "name": "ipython",
    "version": 3
   },
   "file_extension": ".py",
   "mimetype": "text/x-python",
   "name": "python",
   "nbconvert_exporter": "python",
   "pygments_lexer": "ipython3",
   "version": "3.11.5"
  }
 },
 "nbformat": 4,
 "nbformat_minor": 2
}
